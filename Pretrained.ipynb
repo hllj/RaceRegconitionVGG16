{
  "nbformat": 4,
  "nbformat_minor": 0,
  "metadata": {
    "colab": {
      "name": "Pretrained.ipynb",
      "provenance": [],
      "collapsed_sections": [],
      "toc_visible": true,
      "authorship_tag": "ABX9TyMubsVPLDxGOqjEJwHvvSrU",
      "include_colab_link": true
    },
    "kernelspec": {
      "name": "python3",
      "display_name": "Python 3"
    },
    "accelerator": "GPU"
  },
  "cells": [
    {
      "cell_type": "markdown",
      "metadata": {
        "id": "view-in-github",
        "colab_type": "text"
      },
      "source": [
        "<a href=\"https://colab.research.google.com/github/hllj/RaceRegconitionVGG16/blob/master/Pretrained.ipynb\" target=\"_parent\"><img src=\"https://colab.research.google.com/assets/colab-badge.svg\" alt=\"Open In Colab\"/></a>"
      ]
    },
    {
      "cell_type": "code",
      "metadata": {
        "id": "WDUMPVdSXvpJ",
        "colab_type": "code",
        "outputId": "2fc95c24-fe18-41a9-abe8-7dcfa9a101e0",
        "colab": {
          "base_uri": "https://localhost:8080/",
          "height": 54
        }
      },
      "source": [
        "from google.colab import drive\n",
        "drive.mount('/content/drive')"
      ],
      "execution_count": 0,
      "outputs": [
        {
          "output_type": "stream",
          "text": [
            "Drive already mounted at /content/drive; to attempt to forcibly remount, call drive.mount(\"/content/drive\", force_remount=True).\n"
          ],
          "name": "stdout"
        }
      ]
    },
    {
      "cell_type": "code",
      "metadata": {
        "id": "PvpZuJ_hYTWV",
        "colab_type": "code",
        "colab": {}
      },
      "source": [
        "CUR_DIR = '/content/drive/My Drive/Race'"
      ],
      "execution_count": 0,
      "outputs": []
    },
    {
      "cell_type": "code",
      "metadata": {
        "id": "Hxz0xv-HYakP",
        "colab_type": "code",
        "outputId": "ab466ee8-9b3c-472e-ee48-9d8665b0e7ea",
        "colab": {
          "base_uri": "https://localhost:8080/",
          "height": 80
        }
      },
      "source": [
        "from __future__ import print_function\n",
        "import tensorflow as tf\n",
        "import numpy as np\n",
        "import os\n",
        "import matplotlib.pyplot as plt"
      ],
      "execution_count": 0,
      "outputs": [
        {
          "output_type": "display_data",
          "data": {
            "text/html": [
              "<p style=\"color: red;\">\n",
              "The default version of TensorFlow in Colab will soon switch to TensorFlow 2.x.<br>\n",
              "We recommend you <a href=\"https://www.tensorflow.org/guide/migrate\" target=\"_blank\">upgrade</a> now \n",
              "or ensure your notebook will continue to use TensorFlow 1.x via the <code>%tensorflow_version 1.x</code> magic:\n",
              "<a href=\"https://colab.research.google.com/notebooks/tensorflow_version.ipynb\" target=\"_blank\">more info</a>.</p>\n"
            ],
            "text/plain": [
              "<IPython.core.display.HTML object>"
            ]
          },
          "metadata": {
            "tags": []
          }
        }
      ]
    },
    {
      "cell_type": "markdown",
      "metadata": {
        "id": "0rAkBJChXw0_",
        "colab_type": "text"
      },
      "source": [
        "#1.Check dataset:"
      ]
    },
    {
      "cell_type": "code",
      "metadata": {
        "id": "EOOXLJDwYRgJ",
        "colab_type": "code",
        "colab": {}
      },
      "source": [
        "RACE_LIST = ['Asian', 'Black', 'India', 'Others', 'White']"
      ],
      "execution_count": 0,
      "outputs": []
    },
    {
      "cell_type": "code",
      "metadata": {
        "id": "QyZzhqriNKwE",
        "colab_type": "code",
        "colab": {}
      },
      "source": [
        "total = 0\n",
        "class_weight = dict()\n",
        "number_class = dict()\n",
        "for idx, race in enumerate(RACE_LIST):\n",
        "  class_weight[idx] = 0"
      ],
      "execution_count": 0,
      "outputs": []
    },
    {
      "cell_type": "code",
      "metadata": {
        "id": "9Iwhlti_ZEny",
        "colab_type": "code",
        "outputId": "6459a890-e238-4c77-bf33-be81b7b98f48",
        "colab": {
          "base_uri": "https://localhost:8080/",
          "height": 187
        }
      },
      "source": [
        "for idx, race in enumerate(RACE_LIST):\n",
        "  print(race, \" has \", len(os.listdir(CUR_DIR + '//train//' + race)), \" images in training set\")\n",
        "  print(race, \" has \", len(os.listdir(CUR_DIR + '//test//' + race)), \" images in testing set\")\n",
        "  class_weight[idx] = len(os.listdir(CUR_DIR + '//train//' + race)) + len(os.listdir(CUR_DIR + '//test//' + race))\n",
        "  total += class_weight[idx]"
      ],
      "execution_count": 0,
      "outputs": [
        {
          "output_type": "stream",
          "text": [
            "Asian  has  1397  images in training set\n",
            "Asian  has  156  images in testing set\n",
            "Black  has  364  images in training set\n",
            "Black  has  41  images in testing set\n",
            "India  has  1307  images in training set\n",
            "India  has  146  images in testing set\n",
            "Others  has  992  images in training set\n",
            "Others  has  111  images in testing set\n",
            "White  has  4738  images in training set\n",
            "White  has  527  images in testing set\n"
          ],
          "name": "stdout"
        }
      ]
    },
    {
      "cell_type": "code",
      "metadata": {
        "id": "4ZmuhA-bN6W3",
        "colab_type": "code",
        "colab": {}
      },
      "source": [
        "for idx, race in enumerate(RACE_LIST):\n",
        "  class_weight[idx] /= total"
      ],
      "execution_count": 0,
      "outputs": []
    },
    {
      "cell_type": "code",
      "metadata": {
        "id": "v8EUPg_sZ2yc",
        "colab_type": "code",
        "colab": {}
      },
      "source": [
        "TRAINING_DIR = CUR_DIR + \"//train//\"\n",
        "TESTING_DIR = CUR_DIR + \"//test//\""
      ],
      "execution_count": 0,
      "outputs": []
    },
    {
      "cell_type": "markdown",
      "metadata": {
        "id": "jre-vgjzaGBP",
        "colab_type": "text"
      },
      "source": [
        "#2.Create Image Generator from directory:"
      ]
    },
    {
      "cell_type": "code",
      "metadata": {
        "id": "cCRgxpPFaXfO",
        "colab_type": "code",
        "colab": {}
      },
      "source": [
        "from tensorflow.keras.preprocessing.image import ImageDataGenerator"
      ],
      "execution_count": 0,
      "outputs": []
    },
    {
      "cell_type": "code",
      "metadata": {
        "id": "1vLCRTVEbr7r",
        "colab_type": "code",
        "colab": {}
      },
      "source": [
        "TARGET_SIZE = (200, 200)\n",
        "BATCH_SIZE = 128"
      ],
      "execution_count": 0,
      "outputs": []
    },
    {
      "cell_type": "code",
      "metadata": {
        "id": "RgcF5sndamxg",
        "colab_type": "code",
        "outputId": "755d1c49-a665-4071-d46e-99e4a4cb0203",
        "colab": {
          "base_uri": "https://localhost:8080/",
          "height": 51
        }
      },
      "source": [
        "train_datagen = ImageDataGenerator(rescale=1./255.)\n",
        "test_datagen = ImageDataGenerator(rescale=1./255.)\n",
        "\n",
        "train_generator = train_datagen.flow_from_directory(\n",
        "    TRAINING_DIR,\n",
        "    batch_size=BATCH_SIZE,\n",
        "    class_mode='categorical',\n",
        "    target_size=TARGET_SIZE\n",
        ")\n",
        "test_generator = test_datagen.flow_from_directory(\n",
        "    TESTING_DIR,\n",
        "    batch_size=BATCH_SIZE,\n",
        "    class_mode='categorical',\n",
        "    target_size=TARGET_SIZE\n",
        ")"
      ],
      "execution_count": 0,
      "outputs": [
        {
          "output_type": "stream",
          "text": [
            "Found 8798 images belonging to 5 classes.\n",
            "Found 981 images belonging to 5 classes.\n"
          ],
          "name": "stdout"
        }
      ]
    },
    {
      "cell_type": "markdown",
      "metadata": {
        "id": "H2o4BUeWcIDw",
        "colab_type": "text"
      },
      "source": [
        "#3.Create Model:"
      ]
    },
    {
      "cell_type": "code",
      "metadata": {
        "id": "wcq3qmuOcLru",
        "colab_type": "code",
        "colab": {}
      },
      "source": [
        "from tensorflow.keras.applications.vgg16 import VGG16"
      ],
      "execution_count": 0,
      "outputs": []
    },
    {
      "cell_type": "code",
      "metadata": {
        "id": "WFE3WV38c8_F",
        "colab_type": "code",
        "colab": {}
      },
      "source": [
        "NUM_CLASSES = 5"
      ],
      "execution_count": 0,
      "outputs": []
    },
    {
      "cell_type": "code",
      "metadata": {
        "id": "BTWrU4jVckMk",
        "colab_type": "code",
        "outputId": "96490520-ee38-4073-8b2d-48285be5e2b1",
        "colab": {
          "base_uri": "https://localhost:8080/",
          "height": 88
        }
      },
      "source": [
        "pretrained_model = VGG16(\n",
        "    include_top = False,\n",
        "    weights=None,\n",
        "    input_shape=(200, 200, 3)\n",
        ")"
      ],
      "execution_count": 0,
      "outputs": [
        {
          "output_type": "stream",
          "text": [
            "WARNING:tensorflow:From /usr/local/lib/python3.6/dist-packages/tensorflow_core/python/ops/resource_variable_ops.py:1630: calling BaseResourceVariable.__init__ (from tensorflow.python.ops.resource_variable_ops) with constraint is deprecated and will be removed in a future version.\n",
            "Instructions for updating:\n",
            "If using Keras pass *_constraint arguments to layers.\n"
          ],
          "name": "stdout"
        }
      ]
    },
    {
      "cell_type": "code",
      "metadata": {
        "id": "F1YObV7jdGHW",
        "colab_type": "code",
        "colab": {}
      },
      "source": [
        "for layer in pretrained_model.layers:\n",
        "  layer.trainable = False"
      ],
      "execution_count": 0,
      "outputs": []
    },
    {
      "cell_type": "code",
      "metadata": {
        "id": "SVAPMnzJd3NL",
        "colab_type": "code",
        "outputId": "9dc844ce-4367-4ef0-a80d-8a1c6cceb656",
        "colab": {
          "base_uri": "https://localhost:8080/",
          "height": 799
        }
      },
      "source": [
        "pretrained_model.summary()"
      ],
      "execution_count": 0,
      "outputs": [
        {
          "output_type": "stream",
          "text": [
            "Model: \"vgg16\"\n",
            "_________________________________________________________________\n",
            "Layer (type)                 Output Shape              Param #   \n",
            "=================================================================\n",
            "input_1 (InputLayer)         [(None, 200, 200, 3)]     0         \n",
            "_________________________________________________________________\n",
            "block1_conv1 (Conv2D)        (None, 200, 200, 64)      1792      \n",
            "_________________________________________________________________\n",
            "block1_conv2 (Conv2D)        (None, 200, 200, 64)      36928     \n",
            "_________________________________________________________________\n",
            "block1_pool (MaxPooling2D)   (None, 100, 100, 64)      0         \n",
            "_________________________________________________________________\n",
            "block2_conv1 (Conv2D)        (None, 100, 100, 128)     73856     \n",
            "_________________________________________________________________\n",
            "block2_conv2 (Conv2D)        (None, 100, 100, 128)     147584    \n",
            "_________________________________________________________________\n",
            "block2_pool (MaxPooling2D)   (None, 50, 50, 128)       0         \n",
            "_________________________________________________________________\n",
            "block3_conv1 (Conv2D)        (None, 50, 50, 256)       295168    \n",
            "_________________________________________________________________\n",
            "block3_conv2 (Conv2D)        (None, 50, 50, 256)       590080    \n",
            "_________________________________________________________________\n",
            "block3_conv3 (Conv2D)        (None, 50, 50, 256)       590080    \n",
            "_________________________________________________________________\n",
            "block3_pool (MaxPooling2D)   (None, 25, 25, 256)       0         \n",
            "_________________________________________________________________\n",
            "block4_conv1 (Conv2D)        (None, 25, 25, 512)       1180160   \n",
            "_________________________________________________________________\n",
            "block4_conv2 (Conv2D)        (None, 25, 25, 512)       2359808   \n",
            "_________________________________________________________________\n",
            "block4_conv3 (Conv2D)        (None, 25, 25, 512)       2359808   \n",
            "_________________________________________________________________\n",
            "block4_pool (MaxPooling2D)   (None, 12, 12, 512)       0         \n",
            "_________________________________________________________________\n",
            "block5_conv1 (Conv2D)        (None, 12, 12, 512)       2359808   \n",
            "_________________________________________________________________\n",
            "block5_conv2 (Conv2D)        (None, 12, 12, 512)       2359808   \n",
            "_________________________________________________________________\n",
            "block5_conv3 (Conv2D)        (None, 12, 12, 512)       2359808   \n",
            "_________________________________________________________________\n",
            "block5_pool (MaxPooling2D)   (None, 6, 6, 512)         0         \n",
            "=================================================================\n",
            "Total params: 14,714,688\n",
            "Trainable params: 0\n",
            "Non-trainable params: 14,714,688\n",
            "_________________________________________________________________\n"
          ],
          "name": "stdout"
        }
      ]
    },
    {
      "cell_type": "code",
      "metadata": {
        "id": "tQBxfNu_d5bV",
        "colab_type": "code",
        "colab": {}
      },
      "source": [
        "last_layer = pretrained_model.get_layer('block5_pool')\n",
        "last_output = last_layer.output"
      ],
      "execution_count": 0,
      "outputs": []
    },
    {
      "cell_type": "code",
      "metadata": {
        "id": "tIrzo9j_ePOQ",
        "colab_type": "code",
        "outputId": "2fb4d752-a502-487b-cbe8-58489c76156d",
        "colab": {
          "base_uri": "https://localhost:8080/",
          "height": 34
        }
      },
      "source": [
        "print(last_output.shape)"
      ],
      "execution_count": 0,
      "outputs": [
        {
          "output_type": "stream",
          "text": [
            "(?, 6, 6, 512)\n"
          ],
          "name": "stdout"
        }
      ]
    },
    {
      "cell_type": "code",
      "metadata": {
        "id": "DH1j90yXeTZC",
        "colab_type": "code",
        "colab": {}
      },
      "source": [
        "net = tf.keras.layers.Flatten()(last_output)\n",
        "net = tf.keras.layers.Dense(1024, activation=tf.nn.relu)(net)\n",
        "net = tf.keras.layers.Dropout(0.2)(net)\n",
        "net = tf.keras.layers.Dense(NUM_CLASSES, activation='softmax')(net)\n",
        "\n",
        "model = tf.keras.Model(pretrained_model.input, net)"
      ],
      "execution_count": 0,
      "outputs": []
    },
    {
      "cell_type": "code",
      "metadata": {
        "id": "M68gkrXRfPQJ",
        "colab_type": "code",
        "outputId": "73befaef-1d33-484b-cd9f-891464f378d6",
        "colab": {
          "base_uri": "https://localhost:8080/",
          "height": 935
        }
      },
      "source": [
        "model.summary()"
      ],
      "execution_count": 0,
      "outputs": [
        {
          "output_type": "stream",
          "text": [
            "Model: \"model\"\n",
            "_________________________________________________________________\n",
            "Layer (type)                 Output Shape              Param #   \n",
            "=================================================================\n",
            "input_1 (InputLayer)         [(None, 200, 200, 3)]     0         \n",
            "_________________________________________________________________\n",
            "block1_conv1 (Conv2D)        (None, 200, 200, 64)      1792      \n",
            "_________________________________________________________________\n",
            "block1_conv2 (Conv2D)        (None, 200, 200, 64)      36928     \n",
            "_________________________________________________________________\n",
            "block1_pool (MaxPooling2D)   (None, 100, 100, 64)      0         \n",
            "_________________________________________________________________\n",
            "block2_conv1 (Conv2D)        (None, 100, 100, 128)     73856     \n",
            "_________________________________________________________________\n",
            "block2_conv2 (Conv2D)        (None, 100, 100, 128)     147584    \n",
            "_________________________________________________________________\n",
            "block2_pool (MaxPooling2D)   (None, 50, 50, 128)       0         \n",
            "_________________________________________________________________\n",
            "block3_conv1 (Conv2D)        (None, 50, 50, 256)       295168    \n",
            "_________________________________________________________________\n",
            "block3_conv2 (Conv2D)        (None, 50, 50, 256)       590080    \n",
            "_________________________________________________________________\n",
            "block3_conv3 (Conv2D)        (None, 50, 50, 256)       590080    \n",
            "_________________________________________________________________\n",
            "block3_pool (MaxPooling2D)   (None, 25, 25, 256)       0         \n",
            "_________________________________________________________________\n",
            "block4_conv1 (Conv2D)        (None, 25, 25, 512)       1180160   \n",
            "_________________________________________________________________\n",
            "block4_conv2 (Conv2D)        (None, 25, 25, 512)       2359808   \n",
            "_________________________________________________________________\n",
            "block4_conv3 (Conv2D)        (None, 25, 25, 512)       2359808   \n",
            "_________________________________________________________________\n",
            "block4_pool (MaxPooling2D)   (None, 12, 12, 512)       0         \n",
            "_________________________________________________________________\n",
            "block5_conv1 (Conv2D)        (None, 12, 12, 512)       2359808   \n",
            "_________________________________________________________________\n",
            "block5_conv2 (Conv2D)        (None, 12, 12, 512)       2359808   \n",
            "_________________________________________________________________\n",
            "block5_conv3 (Conv2D)        (None, 12, 12, 512)       2359808   \n",
            "_________________________________________________________________\n",
            "block5_pool (MaxPooling2D)   (None, 6, 6, 512)         0         \n",
            "_________________________________________________________________\n",
            "flatten (Flatten)            (None, 18432)             0         \n",
            "_________________________________________________________________\n",
            "dense (Dense)                (None, 1024)              18875392  \n",
            "_________________________________________________________________\n",
            "dropout (Dropout)            (None, 1024)              0         \n",
            "_________________________________________________________________\n",
            "dense_1 (Dense)              (None, 5)                 5125      \n",
            "=================================================================\n",
            "Total params: 33,595,205\n",
            "Trainable params: 18,880,517\n",
            "Non-trainable params: 14,714,688\n",
            "_________________________________________________________________\n"
          ],
          "name": "stdout"
        }
      ]
    },
    {
      "cell_type": "markdown",
      "metadata": {
        "id": "qoUqI325fTvm",
        "colab_type": "text"
      },
      "source": [
        "#4.Training the model:"
      ]
    },
    {
      "cell_type": "code",
      "metadata": {
        "id": "Ollf97QUfmpv",
        "colab_type": "code",
        "colab": {}
      },
      "source": [
        "EPOCHS = 100\n",
        "STEPS_PER_EPOCH = 70\n",
        "VALIDATION_STEPS = 8\n",
        "LR=0.001"
      ],
      "execution_count": 0,
      "outputs": []
    },
    {
      "cell_type": "code",
      "metadata": {
        "id": "4WGmM17fkYGD",
        "colab_type": "code",
        "colab": {}
      },
      "source": [
        "mc = tf.keras.callbacks.ModelCheckpoint(filepath=\"model.h5\", \n",
        "                                     monitor='val_acc',\n",
        "                                     mode='max', \n",
        "                                     verbose=0, \n",
        "                                     save_best_only=True)"
      ],
      "execution_count": 0,
      "outputs": []
    },
    {
      "cell_type": "code",
      "metadata": {
        "id": "CIsgUh0Bk-pk",
        "colab_type": "code",
        "colab": {}
      },
      "source": [
        "adam = tf.keras.optimizers.Adam(lr=LR, decay=LR/EPOCHS)\n",
        "model.compile(optimizer=adam, loss='categorical_crossentropy', metrics=['acc'])"
      ],
      "execution_count": 0,
      "outputs": []
    },
    {
      "cell_type": "code",
      "metadata": {
        "id": "0UaR3iH9jYXr",
        "colab_type": "code",
        "outputId": "ce1e2b20-4f0d-4699-adb4-61b677c8bf4a",
        "colab": {
          "base_uri": "https://localhost:8080/",
          "height": 1000
        }
      },
      "source": [
        "history = model.fit_generator(\n",
        "    train_generator,\n",
        "    steps_per_epoch=STEPS_PER_EPOCH,\n",
        "    epochs=EPOCHS,\n",
        "    verbose=2,\n",
        "    validation_data=test_generator,\n",
        "    callbacks=[mc],\n",
        "    class_weight=class_weight\n",
        ")"
      ],
      "execution_count": 0,
      "outputs": [
        {
          "output_type": "stream",
          "text": [
            "Epoch 1/100\n",
            "Epoch 1/100\n",
            "70/70 - 65s - loss: 0.2620 - acc: 0.5332 - val_loss: 1.5087 - val_acc: 0.5372\n",
            "Epoch 2/100\n",
            "Epoch 1/100\n",
            "70/70 - 42s - loss: 0.2351 - acc: 0.5388 - val_loss: 1.5382 - val_acc: 0.5372\n",
            "Epoch 3/100\n",
            "Epoch 1/100\n",
            "70/70 - 43s - loss: 0.2325 - acc: 0.5391 - val_loss: 1.5287 - val_acc: 0.5372\n",
            "Epoch 4/100\n",
            "Epoch 1/100\n",
            "70/70 - 42s - loss: 0.2293 - acc: 0.5363 - val_loss: 1.4893 - val_acc: 0.5372\n",
            "Epoch 5/100\n",
            "Epoch 1/100\n",
            "70/70 - 43s - loss: 0.2231 - acc: 0.5424 - val_loss: 1.4880 - val_acc: 0.5372\n",
            "Epoch 6/100\n",
            "Epoch 1/100\n",
            "70/70 - 43s - loss: 0.2194 - acc: 0.5373 - val_loss: 1.4974 - val_acc: 0.5372\n",
            "Epoch 7/100\n",
            "Epoch 1/100\n",
            "70/70 - 43s - loss: 0.2130 - acc: 0.5412 - val_loss: 1.4679 - val_acc: 0.5372\n",
            "Epoch 8/100\n",
            "Epoch 1/100\n",
            "70/70 - 43s - loss: 0.2109 - acc: 0.5351 - val_loss: 1.3181 - val_acc: 0.5392\n",
            "Epoch 9/100\n",
            "Epoch 1/100\n",
            "70/70 - 43s - loss: 0.2054 - acc: 0.5415 - val_loss: 1.3071 - val_acc: 0.5423\n",
            "Epoch 10/100\n",
            "Epoch 1/100\n",
            "70/70 - 43s - loss: 0.2023 - acc: 0.5430 - val_loss: 1.3483 - val_acc: 0.5423\n",
            "Epoch 11/100\n",
            "Epoch 1/100\n",
            "70/70 - 43s - loss: 0.1990 - acc: 0.5448 - val_loss: 1.2647 - val_acc: 0.5484\n",
            "Epoch 12/100\n",
            "Epoch 1/100\n",
            "70/70 - 43s - loss: 0.1938 - acc: 0.5521 - val_loss: 1.3717 - val_acc: 0.5443\n",
            "Epoch 13/100\n",
            "Epoch 1/100\n",
            "70/70 - 43s - loss: 0.1961 - acc: 0.5441 - val_loss: 1.2214 - val_acc: 0.5596\n",
            "Epoch 14/100\n",
            "Epoch 1/100\n",
            "70/70 - 43s - loss: 0.1901 - acc: 0.5565 - val_loss: 1.2305 - val_acc: 0.5586\n",
            "Epoch 15/100\n",
            "Epoch 1/100\n",
            "70/70 - 43s - loss: 0.1902 - acc: 0.5585 - val_loss: 1.1715 - val_acc: 0.5607\n",
            "Epoch 16/100\n",
            "Epoch 1/100\n",
            "70/70 - 44s - loss: 0.1844 - acc: 0.5606 - val_loss: 1.1818 - val_acc: 0.5617\n",
            "Epoch 17/100\n",
            "Epoch 1/100\n",
            "70/70 - 44s - loss: 0.1815 - acc: 0.5665 - val_loss: 1.2050 - val_acc: 0.5688\n",
            "Epoch 18/100\n",
            "Epoch 1/100\n",
            "70/70 - 43s - loss: 0.1809 - acc: 0.5707 - val_loss: 1.2542 - val_acc: 0.5627\n",
            "Epoch 19/100\n",
            "Epoch 1/100\n",
            "70/70 - 44s - loss: 0.1780 - acc: 0.5743 - val_loss: 1.1160 - val_acc: 0.5933\n",
            "Epoch 20/100\n",
            "Epoch 1/100\n",
            "70/70 - 43s - loss: 0.1755 - acc: 0.5802 - val_loss: 1.0848 - val_acc: 0.5933\n",
            "Epoch 21/100\n",
            "Epoch 1/100\n",
            "70/70 - 43s - loss: 0.1756 - acc: 0.5840 - val_loss: 1.1357 - val_acc: 0.5759\n",
            "Epoch 22/100\n",
            "Epoch 1/100\n",
            "70/70 - 43s - loss: 0.1707 - acc: 0.5921 - val_loss: 1.1344 - val_acc: 0.5831\n",
            "Epoch 23/100\n",
            "Epoch 1/100\n",
            "70/70 - 43s - loss: 0.1711 - acc: 0.5925 - val_loss: 1.0238 - val_acc: 0.6391\n",
            "Epoch 24/100\n",
            "Epoch 1/100\n",
            "70/70 - 43s - loss: 0.1707 - acc: 0.5932 - val_loss: 1.0328 - val_acc: 0.6412\n",
            "Epoch 25/100\n",
            "Epoch 1/100\n",
            "70/70 - 43s - loss: 0.1662 - acc: 0.6072 - val_loss: 1.0299 - val_acc: 0.6361\n",
            "Epoch 26/100\n",
            "Epoch 1/100\n",
            "70/70 - 43s - loss: 0.1644 - acc: 0.6076 - val_loss: 1.0365 - val_acc: 0.6361\n",
            "Epoch 27/100\n",
            "Epoch 1/100\n",
            "70/70 - 43s - loss: 0.1681 - acc: 0.6037 - val_loss: 1.1288 - val_acc: 0.6075\n",
            "Epoch 28/100\n",
            "Epoch 1/100\n",
            "70/70 - 43s - loss: 0.1609 - acc: 0.6174 - val_loss: 1.0734 - val_acc: 0.6239\n",
            "Epoch 29/100\n",
            "Epoch 1/100\n",
            "70/70 - 43s - loss: 0.1602 - acc: 0.6176 - val_loss: 1.1249 - val_acc: 0.6075\n",
            "Epoch 30/100\n",
            "Epoch 1/100\n",
            "70/70 - 43s - loss: 0.1610 - acc: 0.6156 - val_loss: 1.1511 - val_acc: 0.5933\n",
            "Epoch 31/100\n",
            "Epoch 1/100\n",
            "70/70 - 43s - loss: 0.1547 - acc: 0.6333 - val_loss: 1.0759 - val_acc: 0.6269\n",
            "Epoch 32/100\n",
            "Epoch 1/100\n",
            "70/70 - 44s - loss: 0.1556 - acc: 0.6276 - val_loss: 1.0077 - val_acc: 0.6473\n",
            "Epoch 33/100\n",
            "Epoch 1/100\n",
            "70/70 - 43s - loss: 0.1585 - acc: 0.6315 - val_loss: 1.0975 - val_acc: 0.6096\n",
            "Epoch 34/100\n",
            "Epoch 1/100\n",
            "70/70 - 44s - loss: 0.1526 - acc: 0.6386 - val_loss: 1.0258 - val_acc: 0.6493\n",
            "Epoch 35/100\n",
            "Epoch 1/100\n",
            "70/70 - 44s - loss: 0.1549 - acc: 0.6384 - val_loss: 0.9624 - val_acc: 0.6779\n",
            "Epoch 36/100\n",
            "Epoch 1/100\n",
            "70/70 - 43s - loss: 0.1519 - acc: 0.6416 - val_loss: 1.0696 - val_acc: 0.6198\n",
            "Epoch 37/100\n",
            "Epoch 1/100\n",
            "70/70 - 44s - loss: 0.1500 - acc: 0.6474 - val_loss: 1.1724 - val_acc: 0.5963\n",
            "Epoch 38/100\n",
            "Epoch 1/100\n",
            "70/70 - 44s - loss: 0.1529 - acc: 0.6416 - val_loss: 1.0624 - val_acc: 0.6381\n",
            "Epoch 39/100\n",
            "Epoch 1/100\n",
            "70/70 - 44s - loss: 0.1471 - acc: 0.6542 - val_loss: 1.0456 - val_acc: 0.6442\n",
            "Epoch 40/100\n",
            "Epoch 1/100\n",
            "70/70 - 43s - loss: 0.1466 - acc: 0.6559 - val_loss: 0.9511 - val_acc: 0.6728\n",
            "Epoch 41/100\n",
            "Epoch 1/100\n",
            "70/70 - 44s - loss: 0.1470 - acc: 0.6546 - val_loss: 0.9647 - val_acc: 0.6738\n",
            "Epoch 42/100\n",
            "Epoch 1/100\n",
            "70/70 - 44s - loss: 0.1489 - acc: 0.6510 - val_loss: 0.9400 - val_acc: 0.6820\n",
            "Epoch 43/100\n",
            "Epoch 1/100\n",
            "70/70 - 44s - loss: 0.1436 - acc: 0.6632 - val_loss: 1.0281 - val_acc: 0.6555\n",
            "Epoch 44/100\n",
            "Epoch 1/100\n",
            "70/70 - 43s - loss: 0.1462 - acc: 0.6592 - val_loss: 1.0948 - val_acc: 0.6259\n",
            "Epoch 45/100\n",
            "Epoch 1/100\n",
            "70/70 - 43s - loss: 0.1446 - acc: 0.6645 - val_loss: 1.0943 - val_acc: 0.6300\n",
            "Epoch 46/100\n",
            "Epoch 1/100\n",
            "70/70 - 44s - loss: 0.1473 - acc: 0.6560 - val_loss: 0.9460 - val_acc: 0.6901\n",
            "Epoch 47/100\n",
            "Epoch 1/100\n",
            "70/70 - 44s - loss: 0.1403 - acc: 0.6701 - val_loss: 0.9217 - val_acc: 0.6891\n",
            "Epoch 48/100\n",
            "Epoch 1/100\n",
            "70/70 - 44s - loss: 0.1410 - acc: 0.6699 - val_loss: 1.0192 - val_acc: 0.6432\n",
            "Epoch 49/100\n",
            "Epoch 1/100\n",
            "70/70 - 44s - loss: 0.1405 - acc: 0.6697 - val_loss: 0.9584 - val_acc: 0.6769\n",
            "Epoch 50/100\n",
            "Epoch 1/100\n",
            "70/70 - 44s - loss: 0.1394 - acc: 0.6712 - val_loss: 0.9424 - val_acc: 0.6840\n",
            "Epoch 51/100\n",
            "Epoch 1/100\n",
            "70/70 - 44s - loss: 0.1382 - acc: 0.6781 - val_loss: 0.9169 - val_acc: 0.6850\n",
            "Epoch 52/100\n",
            "Epoch 1/100\n",
            "70/70 - 44s - loss: 0.1369 - acc: 0.6757 - val_loss: 1.0560 - val_acc: 0.6432\n",
            "Epoch 53/100\n",
            "Epoch 1/100\n",
            "70/70 - 45s - loss: 0.1406 - acc: 0.6790 - val_loss: 0.8921 - val_acc: 0.6922\n",
            "Epoch 54/100\n",
            "Epoch 1/100\n",
            "70/70 - 44s - loss: 0.1374 - acc: 0.6758 - val_loss: 1.0531 - val_acc: 0.6595\n",
            "Epoch 55/100\n",
            "Epoch 1/100\n",
            "70/70 - 44s - loss: 0.1359 - acc: 0.6779 - val_loss: 1.0122 - val_acc: 0.6738\n",
            "Epoch 56/100\n",
            "Epoch 1/100\n",
            "70/70 - 44s - loss: 0.1334 - acc: 0.6868 - val_loss: 0.9717 - val_acc: 0.6779\n",
            "Epoch 57/100\n",
            "Epoch 1/100\n",
            "70/70 - 44s - loss: 0.1354 - acc: 0.6852 - val_loss: 0.9504 - val_acc: 0.6809\n",
            "Epoch 58/100\n",
            "Epoch 1/100\n",
            "70/70 - 45s - loss: 0.1330 - acc: 0.6857 - val_loss: 0.8842 - val_acc: 0.7054\n",
            "Epoch 59/100\n",
            "Epoch 1/100\n",
            "70/70 - 45s - loss: 0.1339 - acc: 0.6873 - val_loss: 0.8797 - val_acc: 0.7085\n",
            "Epoch 60/100\n",
            "Epoch 1/100\n",
            "70/70 - 44s - loss: 0.1330 - acc: 0.6856 - val_loss: 0.8939 - val_acc: 0.6952\n",
            "Epoch 61/100\n",
            "Epoch 1/100\n",
            "70/70 - 44s - loss: 0.1314 - acc: 0.6896 - val_loss: 0.9123 - val_acc: 0.7023\n",
            "Epoch 62/100\n",
            "Epoch 1/100\n",
            "70/70 - 44s - loss: 0.1296 - acc: 0.6949 - val_loss: 1.0977 - val_acc: 0.6402\n",
            "Epoch 63/100\n",
            "Epoch 1/100\n",
            "70/70 - 44s - loss: 0.1290 - acc: 0.6950 - val_loss: 0.8980 - val_acc: 0.6952\n",
            "Epoch 64/100\n",
            "Epoch 1/100\n",
            "70/70 - 44s - loss: 0.1287 - acc: 0.6989 - val_loss: 0.9196 - val_acc: 0.6942\n",
            "Epoch 65/100\n",
            "Epoch 1/100\n",
            "70/70 - 45s - loss: 0.1301 - acc: 0.6928 - val_loss: 0.8419 - val_acc: 0.7105\n",
            "Epoch 66/100\n",
            "Epoch 1/100\n",
            "70/70 - 44s - loss: 0.1282 - acc: 0.6985 - val_loss: 0.9850 - val_acc: 0.6738\n",
            "Epoch 67/100\n",
            "Epoch 1/100\n",
            "70/70 - 45s - loss: 0.1267 - acc: 0.6999 - val_loss: 0.9870 - val_acc: 0.6687\n",
            "Epoch 68/100\n",
            "Epoch 1/100\n",
            "70/70 - 45s - loss: 0.1311 - acc: 0.6920 - val_loss: 0.9383 - val_acc: 0.6871\n",
            "Epoch 69/100\n",
            "Epoch 1/100\n",
            "70/70 - 47s - loss: 0.1255 - acc: 0.7038 - val_loss: 1.0064 - val_acc: 0.6697\n",
            "Epoch 70/100\n",
            "Epoch 1/100\n",
            "70/70 - 46s - loss: 0.1264 - acc: 0.7045 - val_loss: 0.9940 - val_acc: 0.6687\n",
            "Epoch 71/100\n",
            "Epoch 1/100\n",
            "70/70 - 47s - loss: 0.1262 - acc: 0.7048 - val_loss: 0.9947 - val_acc: 0.6667\n",
            "Epoch 72/100\n",
            "Epoch 1/100\n",
            "70/70 - 47s - loss: 0.1239 - acc: 0.7069 - val_loss: 0.8232 - val_acc: 0.7258\n",
            "Epoch 73/100\n",
            "Epoch 1/100\n",
            "70/70 - 46s - loss: 0.1233 - acc: 0.7078 - val_loss: 0.9136 - val_acc: 0.6871\n",
            "Epoch 74/100\n",
            "Epoch 1/100\n",
            "70/70 - 47s - loss: 0.1235 - acc: 0.7055 - val_loss: 0.9375 - val_acc: 0.6799\n",
            "Epoch 75/100\n",
            "Epoch 1/100\n",
            "70/70 - 47s - loss: 0.1214 - acc: 0.7118 - val_loss: 0.9755 - val_acc: 0.6871\n",
            "Epoch 76/100\n",
            "Epoch 1/100\n",
            "70/70 - 46s - loss: 0.1235 - acc: 0.7081 - val_loss: 0.9326 - val_acc: 0.6972\n",
            "Epoch 77/100\n",
            "Epoch 1/100\n",
            "70/70 - 46s - loss: 0.1223 - acc: 0.7112 - val_loss: 0.9057 - val_acc: 0.7054\n",
            "Epoch 78/100\n",
            "Epoch 1/100\n",
            "70/70 - 47s - loss: 0.1244 - acc: 0.7058 - val_loss: 0.8567 - val_acc: 0.7176\n",
            "Epoch 79/100\n",
            "Epoch 1/100\n",
            "70/70 - 47s - loss: 0.1212 - acc: 0.7135 - val_loss: 0.8918 - val_acc: 0.7095\n",
            "Epoch 80/100\n",
            "Epoch 1/100\n",
            "70/70 - 47s - loss: 0.1204 - acc: 0.7135 - val_loss: 0.8846 - val_acc: 0.7136\n",
            "Epoch 81/100\n",
            "Epoch 1/100\n",
            "70/70 - 46s - loss: 0.1203 - acc: 0.7116 - val_loss: 0.8655 - val_acc: 0.7187\n",
            "Epoch 82/100\n",
            "Epoch 1/100\n",
            "70/70 - 46s - loss: 0.1198 - acc: 0.7151 - val_loss: 0.8494 - val_acc: 0.7197\n",
            "Epoch 83/100\n",
            "Epoch 1/100\n",
            "70/70 - 46s - loss: 0.1197 - acc: 0.7113 - val_loss: 0.7976 - val_acc: 0.7217\n",
            "Epoch 84/100\n",
            "Epoch 1/100\n",
            "70/70 - 46s - loss: 0.1196 - acc: 0.7224 - val_loss: 1.0155 - val_acc: 0.6626\n",
            "Epoch 85/100\n",
            "Epoch 1/100\n",
            "70/70 - 46s - loss: 0.1181 - acc: 0.7215 - val_loss: 0.9728 - val_acc: 0.6799\n",
            "Epoch 86/100\n",
            "Epoch 1/100\n",
            "70/70 - 46s - loss: 0.1167 - acc: 0.7237 - val_loss: 0.8477 - val_acc: 0.7136\n",
            "Epoch 87/100\n",
            "Epoch 1/100\n",
            "70/70 - 46s - loss: 0.1173 - acc: 0.7168 - val_loss: 0.7981 - val_acc: 0.7309\n",
            "Epoch 88/100\n",
            "Epoch 1/100\n",
            "70/70 - 46s - loss: 0.1140 - acc: 0.7290 - val_loss: 0.8789 - val_acc: 0.7105\n",
            "Epoch 89/100\n",
            "Epoch 1/100\n",
            "70/70 - 46s - loss: 0.1155 - acc: 0.7234 - val_loss: 0.8366 - val_acc: 0.7309\n",
            "Epoch 90/100\n",
            "Epoch 1/100\n",
            "70/70 - 46s - loss: 0.1152 - acc: 0.7266 - val_loss: 0.8766 - val_acc: 0.7146\n",
            "Epoch 91/100\n",
            "Epoch 1/100\n",
            "70/70 - 45s - loss: 0.1113 - acc: 0.7308 - val_loss: 0.8858 - val_acc: 0.7115\n",
            "Epoch 92/100\n",
            "Epoch 1/100\n",
            "70/70 - 46s - loss: 0.1162 - acc: 0.7196 - val_loss: 0.8281 - val_acc: 0.7248\n",
            "Epoch 93/100\n",
            "Epoch 1/100\n",
            "70/70 - 46s - loss: 0.1137 - acc: 0.7293 - val_loss: 0.7678 - val_acc: 0.7329\n",
            "Epoch 94/100\n",
            "Epoch 1/100\n",
            "70/70 - 46s - loss: 0.1112 - acc: 0.7365 - val_loss: 0.8520 - val_acc: 0.7288\n",
            "Epoch 95/100\n",
            "Epoch 1/100\n",
            "70/70 - 46s - loss: 0.1107 - acc: 0.7341 - val_loss: 0.8700 - val_acc: 0.7217\n",
            "Epoch 96/100\n",
            "Epoch 1/100\n",
            "70/70 - 47s - loss: 0.1121 - acc: 0.7320 - val_loss: 0.8979 - val_acc: 0.7136\n",
            "Epoch 97/100\n",
            "Epoch 1/100\n",
            "70/70 - 46s - loss: 0.1132 - acc: 0.7335 - val_loss: 0.7985 - val_acc: 0.7258\n",
            "Epoch 98/100\n",
            "Epoch 1/100\n",
            "70/70 - 46s - loss: 0.1112 - acc: 0.7328 - val_loss: 0.8551 - val_acc: 0.7268\n",
            "Epoch 99/100\n",
            "Epoch 1/100\n",
            "70/70 - 47s - loss: 0.1051 - acc: 0.7460 - val_loss: 0.8278 - val_acc: 0.7319\n",
            "Epoch 100/100\n",
            "Epoch 1/100\n",
            "70/70 - 46s - loss: 0.1130 - acc: 0.7285 - val_loss: 0.7987 - val_acc: 0.7299\n"
          ],
          "name": "stdout"
        }
      ]
    },
    {
      "cell_type": "code",
      "metadata": {
        "id": "2flqGF1mkqNs",
        "colab_type": "code",
        "colab": {}
      },
      "source": [
        "history_dict = history.history\n",
        "loss_values = history_dict['loss']\n",
        "val_loss_values = history_dict['val_loss']"
      ],
      "execution_count": 0,
      "outputs": []
    },
    {
      "cell_type": "code",
      "metadata": {
        "id": "-rRlHVr4zTHu",
        "colab_type": "code",
        "colab": {}
      },
      "source": [
        "range_epochs = range(1, EPOCHS + 1)"
      ],
      "execution_count": 0,
      "outputs": []
    },
    {
      "cell_type": "code",
      "metadata": {
        "id": "eiJ0dCC6zYz2",
        "colab_type": "code",
        "outputId": "804c83cc-ba75-460a-b5c5-dc1337c9c9c3",
        "colab": {
          "base_uri": "https://localhost:8080/",
          "height": 312
        }
      },
      "source": [
        "plt.plot(range_epochs, loss_values, 'bo', label='Training loss')\n",
        "plt.plot(range_epochs, val_loss_values, 'b', label='Validation loss')\n",
        "plt.title('Training and validation loss')\n",
        "plt.xlabel('Epochs')\n",
        "plt.ylabel('Loss')\n",
        "plt.legend()"
      ],
      "execution_count": 0,
      "outputs": [
        {
          "output_type": "execute_result",
          "data": {
            "text/plain": [
              "<matplotlib.legend.Legend at 0x7f023c3133c8>"
            ]
          },
          "metadata": {
            "tags": []
          },
          "execution_count": 27
        },
        {
          "output_type": "display_data",
          "data": {
            "image/png": "[encoded data removed]",
            "text/plain": [
              "<Figure size 432x288 with 1 Axes>"
            ]
          },
          "metadata": {
            "tags": []
          }
        }
      ]
    },
    {
      "cell_type": "code",
      "metadata": {
        "id": "c7DCtEdUzcaq",
        "colab_type": "code",
        "outputId": "9595c1eb-19f9-4b6d-c7ff-cf860d7b8916",
        "colab": {
          "base_uri": "https://localhost:8080/",
          "height": 312
        }
      },
      "source": [
        "acc_values = history_dict['acc']\n",
        "val_acc_values = history_dict['val_acc']\n",
        "plt.plot(range_epochs, acc_values, 'bo', label='Training acc')\n",
        "plt.plot(range_epochs, val_acc_values, 'b', label='Validation acc')\n",
        "plt.title('Training and validation accuracy')\n",
        "plt.xlabel('Epochs')\n",
        "plt.ylabel('Accuracy')\n",
        "plt.legend()"
      ],
      "execution_count": 0,
      "outputs": [
        {
          "output_type": "execute_result",
          "data": {
            "text/plain": [
              "<matplotlib.legend.Legend at 0x7f023c7ac160>"
            ]
          },
          "metadata": {
            "tags": []
          },
          "execution_count": 28
        },
        {
          "output_type": "display_data",
          "data": {
            "image/png": "[encoded data removed]",
            "text/plain": [
              "<Figure size 432x288 with 1 Axes>"
            ]
          },
          "metadata": {
            "tags": []
          }
        }
      ]
    },
    {
      "cell_type": "code",
      "metadata": {
        "id": "4Z37zbxNXDIZ",
        "colab_type": "code",
        "colab": {}
      },
      "source": [
        ""
      ],
      "execution_count": 0,
      "outputs": []
    }
  ]
}